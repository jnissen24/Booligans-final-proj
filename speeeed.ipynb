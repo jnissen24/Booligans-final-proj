{
  "nbformat": 4,
  "nbformat_minor": 0,
  "metadata": {
    "colab": {
      "name": "speeeed.ipynb",
      "provenance": [],
      "collapsed_sections": []
    },
    "kernelspec": {
      "name": "python3",
      "display_name": "Python 3"
    },
    "language_info": {
      "name": "python"
    }
  },
  "cells": [
    {
      "cell_type": "code",
      "metadata": {
        "id": "Vs6nHg0YYdZ1"
      },
      "source": [
        "#PSUEDOCODE/OUTLINE:\n",
        "#display rules/object of game\n",
        "#set up game board\n",
        "#create deck of cards; shuffle/randomize\n",
        "#deal two stacks of 20 and two stacks of 5 all face down, two individual cards face up/displayed; assign one stack of 20 to computer, the other to active player\n",
        "#start game\n",
        "  #each player gets the first 5 cards of their 20 face-up\n",
        "    #variables: computer_cards, player_cards, standby1, standby2, wrkcard1, wrkcard2, computer_hand + player_hand\n",
        "  #can play a card from their 5 if it is +1 or -1 of either of the two face-up cards; this card becomes the new face-up card\n",
        "  #when a card is played, player then replenishes hand of 5 by drawing from personal pile\n",
        "  #this occurs until no cards are left - player wins by getting rid of cards first\n",
        "  #exceptions\n",
        "    #if neither player can use their in-hand cards to be +1 or -1 of the two working face-up cards, then two new working cards can be flipped, one from each of the two waiting piles of 5\n",
        "    #once all of these have been used, all of the previous working cards (except the two on top) are shuffled and used to draw from once more\n"
      ],
      "execution_count": null,
      "outputs": []
    },
    {
      "cell_type": "code",
      "metadata": {
        "id": "_C7w4vKqaAwh"
      },
      "source": [
        "import pygame\n",
        "#Margins\n",
        "margin_left = 250\n",
        "margin_top = 150\n",
        "\n",
        "#window size\n",
        "width = 800\n",
        "height = 600\n",
        "\n",
        "#colors\n",
        "black = (0,0,0)\n",
        "white = (255, 255, 255)\n",
        "gray = (110, 110, 110)\n",
        "green = (0, 255, 0)\n",
        "red = (255, 0, 0)\n",
        "blue = (0, 0, 255)\n",
        "\n",
        "#initialize PyGame\n",
        "pygame.init()\n",
        "#set up screen/background\n",
        "screen = pygame.display.set_mode((width, height))\n",
        "screen.fill(gray)\n",
        "#caption/title\n",
        "pygame.display.set_caption(\"Speed!\")\n",
        "\n",
        "#load card image for preview\n",
        "back_of_card = pygame.image.load('gray_back.png')\n",
        "#scale image\n",
        "back_of_card = pygame.transform.scale(back_of_card , (100, 150))\n"
      ],
      "execution_count": null,
      "outputs": []
    },
    {
      "cell_type": "code",
      "metadata": {
        "id": "dHczueh9Iu1H"
      },
      "source": [
        "import random \n",
        "# creates Card class\n",
        "class Card: \n",
        "  def __init__(self, suit, val):\n",
        "    self.suit = suit\n",
        "    self.value = val\n",
        "\n",
        "  def show(self):\n",
        "    print (\"{}{}\".format(self.value, self.suit))\n",
        "\n",
        "#creates Deck class\n",
        "class Deck:\n",
        "  def __init__(self):\n",
        "    self.cards = []\n",
        "    self.build()\n",
        "  \n",
        "  ## assigns each card a suit and a value\n",
        "  #labels for cards now match labels of images\n",
        "  def build(self): \n",
        "    for ii in [\"S\", \"C\", \"D\", \"H\"]:\n",
        "      for jj in [\"A\", \"1\", \"2\", \"3\", \"4\", \"5\", \"6\", \"7\", \"8\", \"9\", \"10\", \"J\", \"Q\", \"K\"]:\n",
        "        self.cards.append(Card(ii,jj))\n",
        "  \n",
        "  ## Shuffles the deck by switching the card at index ii with a card at a random index\n",
        "  def shuffle(self):\n",
        "    for ii in range(len(self.cards)):\n",
        "      r = random.randint(0,ii)\n",
        "      self.cards[ii], self.cards[r] = self.cards[r], self.cards[ii]\n",
        "\n",
        "  ## Display the shuffled deck\n",
        "  def show(self):\n",
        "    for c in self.cards:\n",
        "      c.show()\n",
        "\n",
        "deck = Deck()\n",
        "deck.shuffle()\n",
        "deck.show()\n"
      ],
      "execution_count": null,
      "outputs": []
    },
    {
      "cell_type": "code",
      "metadata": {
        "id": "i73-kxJkZtKh"
      },
      "source": [
        "import numpy as np\n",
        "#here we go\n",
        "#display rules/object of game\n",
        "#set up game board\n",
        "\n",
        "##create deck of cards\n",
        "suits = {'H', 'D', 'S', 'C'}\n",
        "nums = {'A', '2', '3', '4', '5', '6', '7', '8', '9', '10', 'J', 'Q', 'K'}\n",
        "whole_deck = []\n",
        "for suit in suits:\n",
        "    for num in nums:\n",
        "        whole_deck.append(str(num) + str(suit))\n",
        "\n",
        "##randomize order of cards\n",
        "whole_deck = np.random.permutation(whole_deck) \n",
        "print(whole_deck)\n",
        "\n",
        "#deal two stacks of 20 and two stacks of 5 all face down, two individual cards face up/displayed\n",
        "computer_cards = whole_deck[:20]\n",
        "player_cards = whole_deck[20:40]\n",
        "standby1 = whole_deck[40:45]\n",
        "standby2 = whole_deck[45:50]\n",
        "wrkcard1 = whole_deck[50]\n",
        "wrkcard2 = whole_deck[51]\n",
        "\n",
        "print(computer_cards, player_cards, standby1, standby2, wrkcard1, wrkcard2)\n",
        "\n"
      ],
      "execution_count": null,
      "outputs": []
    }
  ]
}