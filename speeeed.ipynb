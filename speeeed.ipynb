{
  "nbformat": 4,
  "nbformat_minor": 0,
  "metadata": {
    "colab": {
      "name": "speeeed.ipynb",
      "provenance": [],
      "authorship_tag": "ABX9TyPb7PQKXbwPweNdyGPkbYjH"
    },
    "kernelspec": {
      "name": "python3",
      "display_name": "Python 3"
    },
    "language_info": {
      "name": "python"
    }
  },
  "cells": [
    {
      "cell_type": "code",
      "metadata": {
        "id": "i73-kxJkZtKh"
      },
      "source": [
        "#here we go\n",
        "#create deck of cards"
      ],
      "execution_count": null,
      "outputs": []
    }
  ]
}