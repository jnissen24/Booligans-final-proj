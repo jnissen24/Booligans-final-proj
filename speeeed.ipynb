{
  "nbformat": 4,
  "nbformat_minor": 0,
  "metadata": {
    "colab": {
      "name": "speeeed.ipynb",
      "provenance": [],
      "collapsed_sections": [],
      "include_colab_link": true
    },
    "kernelspec": {
      "name": "python3",
      "display_name": "Python 3"
    },
    "language_info": {
      "name": "python"
    }
  },
  "cells": [
    {
      "cell_type": "markdown",
      "metadata": {
        "id": "view-in-github",
        "colab_type": "text"
      },
      "source": [
        "<a href=\"https://colab.research.google.com/github/jnissen24/Booligans-final-proj/blob/main/speeeed.ipynb\" target=\"_parent\"><img src=\"https://colab.research.google.com/assets/colab-badge.svg\" alt=\"Open In Colab\"/></a>"
      ]
    },
    {
      "cell_type": "code",
      "metadata": {
        "id": "Vs6nHg0YYdZ1"
      },
      "source": [
        "#PSUEDOCODE/OUTLINE:\n",
        "#display rules/object of game\n",
        "#set up game board\n",
        "#create deck of cards; shuffle/randomize\n",
        "#deal two stacks of 20 and two stacks of 5 all face down, two individual cards face up/displayed; assign one stack of 20 to computer, the other to active player\n",
        "#start game\n",
        "  #each player gets the first 5 cards of their 20 face-up\n",
        "    #variables: computer_cards, player_cards, standby1, standby2, wrkcard1, wrkcard2, computer_hand + player_hand\n",
        "  #can play a card from their 5 if it is +1 or -1 of either of the two face-up cards; this card becomes the new face-up card\n",
        "  #when a card is played, player then replenishes hand of 5 by drawing from personal pile\n",
        "  #this occurs until no cards are left - player wins by getting rid of cards first\n",
        "  #exceptions\n",
        "    #if neither player can use their in-hand cards to be +1 or -1 of the two working face-up cards, then two new working cards can be flipped, one from each of the two waiting piles of 5\n",
        "    #once all of these have been used, all of the previous working cards (except the two on top) are shuffled and used to draw from once more\n"
      ],
      "execution_count": null,
      "outputs": []
    },
    {
      "cell_type": "code",
      "metadata": {
        "id": "_C7w4vKqaAwh"
      },
      "source": [
        "import pygame\n",
        "#Margins\n",
        "margin_left = 250\n",
        "margin_top = 150\n",
        "\n",
        "#window size\n",
        "width = 800\n",
        "height = 600\n",
        "\n",
        "#colors\n",
        "black = (0,0,0)\n",
        "white = (255, 255, 255)\n",
        "gray = (110, 110, 110)\n",
        "green = (0, 255, 0)\n",
        "red = (255, 0, 0)\n",
        "blue = (0, 0, 255)\n",
        "\n",
        "#initialize PyGame\n",
        "pygame.init()\n",
        "#set up screen/background\n",
        "screen = pygame.display.set_mode((width, height))\n",
        "screen.fill(gray)\n",
        "#caption/title\n",
        "pygame.display.set_caption(\"Speed!\")\n",
        "\n",
        "#load card image for preview\n",
        "back_of_card = pygame.image.load('gray_back.png')\n",
        "#scale image\n",
        "back_of_card = pygame.transform.scale(back_of_card , (100, 150))\n"
      ],
      "execution_count": null,
      "outputs": []
    },
    {
      "cell_type": "code",
      "metadata": {
        "id": "dHczueh9Iu1H"
      },
      "source": [
        "import random \n",
        "# creates Card class\n",
        "class Card: \n",
        "  def __init__(self, suit, val):\n",
        "    self.suit = suit\n",
        "    self.value = val\n",
        "\n",
        "  def show(self):\n",
        "    print (\"{}{}\".format(self.value, self.suit))\n",
        "\n",
        "\n",
        "#creates Deck class\n",
        "class Deck:\n",
        "  def __init__(self):\n",
        "    self.cards = []\n",
        "    self.build()\n",
        "    self.computer_cards = []\n",
        "    self.player_cards = []\n",
        "    self.standby1 = []\n",
        "    self.standby2 = []\n",
        "    self.wrkcard1 = []\n",
        "    self.wrkcard2 = []\n",
        "    self.shuffle()\n",
        "    self.deal()\n",
        "  \n",
        "  ## assigns each card a suit and a value\n",
        "  #labels for cards now match labels of images\n",
        "  def build(self): \n",
        "    for ii in [\"S\", \"C\", \"D\", \"H\"]:\n",
        "      for jj in [\"A\", \"1\", \"2\", \"3\", \"4\", \"5\", \"6\", \"7\", \"8\", \"9\", \"10\", \"J\", \"Q\", \"K\"]:\n",
        "        self.cards.append(Card(ii,jj))\n",
        "  \n",
        "  ## Shuffles the deck by switching the card at index ii with a card at a random index\n",
        "  def shuffle(self):\n",
        "    for ii in range(len(self.cards)):\n",
        "      r = random.randint(0,ii)\n",
        "      self.cards[ii], self.cards[r] = self.cards[r], self.cards[ii]\n",
        "\n",
        "  ## Display the shuffled deck\n",
        "  def show(self):\n",
        "    for c in self.cards:\n",
        "      c.show()\n",
        "\n",
        "  ## Deals cards to player and computer and also sets up standby decks and the middle cards\n",
        "  def deal(self):\n",
        "    self.computer_cards = self.cards[:20]\n",
        "    self.player_cards = self.cards[20:40]\n",
        "    self.standby1 = self.cards[40:45]\n",
        "    self.standby2 = self.cards[45:50]\n",
        "    self.wrkcard1 = self.cards[50]\n",
        "    self.wrkcard2 = self.cards[51] \n",
        "    \n",
        "\n",
        "deck = Deck()\n",
        "print(deck.wrkcard1.show()) #print statement for wrkcard since only has one object\n",
        "print([x.show() for x in deck.standby1] ) #print statement for all other piles\n"
      ],
      "execution_count": null,
      "outputs": []
    },
    {
      "cell_type": "code",
      "metadata": {
        "id": "i73-kxJkZtKh",
        "colab": {
          "base_uri": "https://localhost:8080/"
        },
        "outputId": "a6e9bb50-5773-4b8f-d9e4-d2fb2f8f4bc1"
      },
      "source": [
        "import numpy as np\n",
        "#here we go\n",
        "#display rules/object of game\n",
        "#set up game board\n",
        "\n",
        "##create deck of cards\n",
        "suits = {'H', 'D', 'S', 'C'}\n",
        "nums = {'A', '2', '3', '4', '5', '6', '7', '8', '9', '10', 'J', 'Q', 'K'}\n",
        "whole_deck = []\n",
        "for suit in suits:\n",
        "    for num in nums:\n",
        "        whole_deck.append(str(num) + str(suit))\n",
        "\n",
        "##randomize order of cards\n",
        "whole_deck = np.random.permutation(whole_deck) \n",
        "print(whole_deck)\n",
        "\n",
        "#deal two stacks of 20 and two stacks of 5 all face down, two individual cards face up/displayed\n",
        "computer_cards = whole_deck[:20]\n",
        "player_cards = whole_deck[20:40]\n",
        "standby1 = whole_deck[40:45]\n",
        "standby2 = whole_deck[45:50]\n",
        "wrkcard1 = whole_deck[50]\n",
        "wrkcard2 = whole_deck[51]\n",
        "\n",
        "print(computer_cards, player_cards, standby1, standby2, wrkcard1, wrkcard2)\n",
        "\n"
      ],
      "execution_count": 7,
      "outputs": [
        {
          "output_type": "stream",
          "text": [
            "['3H' '6S' 'AD' 'AC' '6C' '5D' '9D' '3S' 'AS' '8S' 'KD' '4H' '10D' '7S'\n",
            " '6D' '4C' '2D' '2H' '9S' '7C' 'JH' '2C' '4D' 'JC' 'QD' '8H' 'KC' '9H'\n",
            " '5C' 'QC' '7D' '3D' 'KS' '8C' '2S' 'JD' 'QH' 'QS' '5H' '8D' '7H' '4S'\n",
            " '9C' 'AH' '10C' 'KH' '6H' '5S' '3C' '10H' 'JS' '10S']\n",
            "['3H' '6S' 'AD' 'AC' '6C' '5D' '9D' '3S' 'AS' '8S' 'KD' '4H' '10D' '7S'\n",
            " '6D' '4C' '2D' '2H' '9S' '7C'] ['JH' '2C' '4D' 'JC' 'QD' '8H' 'KC' '9H' '5C' 'QC' '7D' '3D' 'KS' '8C'\n",
            " '2S' 'JD' 'QH' 'QS' '5H' '8D'] ['7H' '4S' '9C' 'AH' '10C'] ['KH' '6H' '5S' '3C' '10H'] JS 10S\n"
          ],
          "name": "stdout"
        }
      ]
    }
  ]
}